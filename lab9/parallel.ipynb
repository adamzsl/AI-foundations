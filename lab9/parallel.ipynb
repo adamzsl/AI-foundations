{
  "cells": [
    {
      "cell_type": "code",
      "execution_count": 59,
      "metadata": {
        "pycharm": {
          "name": "#%%\n"
        }
      },
      "outputs": [],
      "source": [
        "import vrep \n",
        "import sys\n",
        "import time \n",
        "import numpy as np\n",
        "from tank import *\n",
        "\n",
        "import skfuzzy as fuzz\n",
        "from skfuzzy import control as ctrl"
      ]
    },
    {
      "cell_type": "code",
      "execution_count": 73,
      "metadata": {
        "collapsed": false,
        "pycharm": {
          "name": "#%%\n"
        }
      },
      "outputs": [],
      "source": [
        "def parallel_zero_stage(distance_EN_input, distance_ES_input, distance_SE_input, distance_NE_input, tank):\n",
        "    # distance1 = EN, distance2 = ES\n",
        "    distance2 = ctrl.Antecedent(np.arange(0, 6, 0.01), 'distance2')\n",
        "    distance1 = ctrl.Antecedent(np.arange(0, 6, 0.01), 'distance1')\n",
        "\n",
        "    speed = ctrl.Consequent(np.arange(-1, 8, 0.01), 'speed')\n",
        "\n",
        "    distance1['very_close'] = fuzz.trapmf(distance1.universe, [0, 0, 1.5, 1.55])\n",
        "    distance1['medium']     = fuzz.trapmf(distance1.universe, [1.5, 1.55, 2.5, 2.51])\n",
        "    distance1['far']        = fuzz.trapmf(distance1.universe, [2.5, 2.51, 6, 6])\n",
        "\n",
        "    distance2['very_close'] = fuzz.trapmf(distance2.universe, [0, 0, 1.1, 2])\n",
        "    distance2['far']        = fuzz.trapmf(distance2.universe, [1.1, 2, 6, 6])\n",
        "\n",
        "    speed['stop'] = fuzz.trimf(speed.universe, [-1, 0, 1])\n",
        "    speed['slow'] = fuzz.trimf(speed.universe, [0, 3, 5])\n",
        "    speed['fast'] = fuzz.trimf(speed.universe, [5, 6, 7])\n",
        "\n",
        "    rules = (\n",
        "        ctrl.Rule(distance1['far'] & distance2['far'], speed['fast']),\n",
        "        ctrl.Rule(distance1['very_close'] & distance2['very_close'], speed['fast']),\n",
        "        ctrl.Rule(distance1['very_close'] & distance2['far'], speed['fast']),\n",
        "        ctrl.Rule(distance1['far'] & distance2['very_close'], speed['slow']),\n",
        "        ctrl.Rule(distance1['medium'] & distance2['far'], speed['slow']),\n",
        "        ctrl.Rule(distance1['medium'] & distance2['very_close'], speed['stop']),\n",
        "    )\n",
        "\n",
        "    speed_ctrl = ctrl.ControlSystem(rules)\n",
        "    speed_sim = ctrl.ControlSystemSimulation(speed_ctrl)\n",
        "\n",
        "    speed_sim.input['distance2'] = distance_ES_input\n",
        "    speed_sim.input['distance1'] = distance_EN_input\n",
        "\n",
        "    speed_sim.compute()\n",
        "\n",
        "    return speed_sim.output['speed']\n",
        "\n",
        "def parallel_first_stage(distance_EN_input, distance_ES_input, distance_SE_input, distance_NE_input, tank):\n",
        "    # distance1 = SE, distance2 = ES\n",
        "    distance2 = ctrl.Antecedent(np.arange(0, 6, 0.01), 'distance2')\n",
        "    distance1 = ctrl.Antecedent(np.arange(0, 6, 0.01), 'distance1')\n",
        "\n",
        "    speed = ctrl.Consequent(np.arange(-1, 8, 0.01), 'speed')\n",
        "\n",
        "    distance1['very_close'] = fuzz.trapmf(distance1.universe, [0, 0, 2.4, 3])\n",
        "    distance1['far']        = fuzz.trapmf(distance1.universe, [2.4, 3, 6, 6])\n",
        "\n",
        "    distance2['very_close'] = fuzz.trapmf(distance2.universe, [0, 0, 1.1, 2])\n",
        "    distance2['far']        = fuzz.trapmf(distance2.universe, [1.1, 2, 6, 6])\n",
        "\n",
        "    speed['stop'] = fuzz.trimf(speed.universe, [-1, 0, 1])\n",
        "    speed['slow'] = fuzz.trimf(speed.universe, [0, 3, 5])\n",
        "    speed['fast'] = fuzz.trimf(speed.universe, [5, 6, 7])\n",
        "\n",
        "    rules = (\n",
        "        ctrl.Rule(distance1['far'] & distance2['far'], speed['fast']),\n",
        "        ctrl.Rule(distance1['far'] & distance2['very_close'], speed['stop']),\n",
        "        ctrl.Rule(distance1['very_close'] & distance2['far'], speed['slow']),\n",
        "        ctrl.Rule(distance1['very_close'] & distance2['very_close'], speed['fast'])\n",
        "    )\n",
        "\n",
        "    speed_ctrl = ctrl.ControlSystem(rules)\n",
        "    speed_sim = ctrl.ControlSystemSimulation(speed_ctrl)\n",
        "\n",
        "    speed_sim.input['distance2'] = distance_ES_input\n",
        "    speed_sim.input['distance1'] = distance_SE_input\n",
        "\n",
        "    speed_sim.compute()\n",
        "\n",
        "    return speed_sim.output['speed']\n",
        "\n",
        "def parallel_second_stage(distance_EN_input, distance_ES_input, distance_SE_input, distance_NE_input, tank):\n",
        "\n",
        "    distance_input = min(distance_ES_input, distance_SE_input)\n",
        "\n",
        "    distance = ctrl.Antecedent(np.arange(0, 6, 0.01), 'distance')\n",
        "    speed = ctrl.Consequent(np.arange(-1, 8, 0.01), 'speed')\n",
        "\n",
        "    distance['very_close'] = fuzz.trapmf(distance.universe, [0, 0, 0.79, 0.80])\n",
        "    distance['far']        = fuzz.trapmf(distance.universe, [0.79, 0.80, 6, 6])\n",
        "\n",
        "    speed['stop'] = fuzz.trimf(speed.universe, [-1, 0, 1])\n",
        "    speed['slow'] = fuzz.trimf(speed.universe, [0, 1, 2])\n",
        "    speed['fast'] = fuzz.trimf(speed.universe, [5, 6, 7])\n",
        "\n",
        "    rules = (\n",
        "        ctrl.Rule(distance['far'], speed['fast']),\n",
        "        ctrl.Rule(distance['very_close'], speed['stop']),\n",
        "    )\n",
        "\n",
        "    speed_ctrl = ctrl.ControlSystem(rules)\n",
        "    speed_sim = ctrl.ControlSystemSimulation(speed_ctrl)\n",
        "    speed_sim.input['distance'] = distance_input\n",
        "    speed_sim.compute()\n",
        "\n",
        "    return speed_sim.output['speed']\n",
        "\n",
        "def parallel_third_stage(distance_SW_input, distance_WS_input, tank):\n",
        "\n",
        "    distance_input = min(distance_SW_input, distance_WS_input)\n",
        "    distance = ctrl.Antecedent(np.arange(0, 6, 0.01), 'distance')\n",
        "\n",
        "    speed = ctrl.Consequent(np.arange(-1, 7, 0.01), 'speed')\n",
        "\n",
        "    distance['very_close'] = fuzz.trapmf(distance.universe, [0, 0, 1.1, 2])\n",
        "    distance['far']        = fuzz.trapmf(distance.universe, [1.1, 2, 6, 6])\n",
        "\n",
        "    speed['stop'] = fuzz.trimf(speed.universe, [-1, 0, 1])\n",
        "    speed['slow'] = fuzz.trimf(speed.universe, [0, 1, 2])\n",
        "    speed['fast'] = fuzz.trimf(speed.universe, [5, 6, 7])\n",
        "\n",
        "    rules = (\n",
        "        ctrl.Rule(distance['far'], speed['fast']),\n",
        "        ctrl.Rule(distance['very_close'], speed['stop']),\n",
        "    )\n",
        "\n",
        "    speed_ctrl = ctrl.ControlSystem(rules)\n",
        "    speed_sim = ctrl.ControlSystemSimulation(speed_ctrl)\n",
        "    speed_sim.input['distance'] = distance_input\n",
        "    speed_sim.compute()\n",
        "\n",
        "    return speed_sim.output['speed']"
      ]
    },
    {
      "cell_type": "code",
      "execution_count": 74,
      "metadata": {
        "pycharm": {
          "name": "#%%\n"
        }
      },
      "outputs": [
        {
          "name": "stdout",
          "output_type": "stream",
          "text": [
            "Connected to remote API server\n"
          ]
        }
      ],
      "source": [
        "vrep.simxFinish(-1) # closes all opened connections, in case any prevoius wasnt finished\n",
        "clientID=vrep.simxStart('127.0.0.1',19999,True,True,5000,5) # start a connection\n",
        "\n",
        "if clientID!=-1:\n",
        "    print (\"Connected to remote API server\")\n",
        "else:\n",
        "    print(\"Not connected to remote API server\")\n",
        "    sys.exit(\"Could not connect\")\n",
        "\n",
        "#create instance of Tank\n",
        "tank=Tank(clientID)"
      ]
    },
    {
      "cell_type": "code",
      "execution_count": 75,
      "metadata": {
        "pycharm": {
          "name": "#%%\n"
        }
      },
      "outputs": [],
      "source": [
        "proximity_sensors=[\"EN\",\"ES\",\"NE\",\"NW\",\"SE\",\"SW\",\"WN\",\"WS\"]\n",
        "proximity_sensors_handles=[0]*8\n",
        "\n",
        "# get handle to proximity sensors\n",
        "for i in range(len(proximity_sensors)):\n",
        "    err_code,proximity_sensors_handles[i] = vrep.simxGetObjectHandle(clientID,\"Proximity_sensor_\"+proximity_sensors[i], vrep.simx_opmode_blocking)\n",
        "    \n",
        "#first read with streaming\n",
        "for sensor_name, sensor_handle in zip(proximity_sensors,proximity_sensors_handles):\n",
        "        err_code,detectionState,detectedPoint,detectedObjectHandle,detectedSurfaceNormalVector=vrep.simxReadProximitySensor(clientID,sensor_handle,vrep.simx_opmode_streaming)"
      ]
    },
    {
      "cell_type": "code",
      "execution_count": null,
      "metadata": {
        "pycharm": {
          "name": "#%%\n"
        }
      },
      "outputs": [],
      "source": [
        "distances = dict()\n",
        "detection_states = dict()\n",
        "\n",
        "for sensor_name, sensor_handle in zip(proximity_sensors,proximity_sensors_handles):\n",
        "        err_code,detectionState,detectedPoint,detectedObjectHandle,detectedSurfaceNormalVector=vrep.simxReadProximitySensor(clientID,sensor_handle,vrep.simx_opmode_buffer)\n",
        "        distances[sensor_name] = np.linalg.norm(detectedPoint)\n",
        "        detection_states[sensor_name] = detectionState\n",
        "current_stage = 0\n",
        "t = time.time()\n",
        "while (time.time()-t)<100:\n",
        "\n",
        "    for sensor_name, sensor_handle in zip(proximity_sensors,proximity_sensors_handles):\n",
        "        err_code,detectionState,detectedPoint,detectedObjectHandle,detectedSurfaceNormalVector=vrep.simxReadProximitySensor(clientID,sensor_handle,vrep.simx_opmode_buffer)\n",
        "        distances[sensor_name] = np.linalg.norm(detectedPoint)\n",
        "        detection_states[sensor_name] = detectionState\n",
        "\n",
        "    if current_stage == 0:\n",
        "        fuzzy_speed = parallel_zero_stage(distances['EN'], distances['ES'], distances['SE'], distances['NE'], tank)\n",
        "        if fuzzy_speed < 3:\n",
        "            tank.forward(0)\n",
        "            current_stage += 1\n",
        "        else:\n",
        "            tank.forward(fuzzy_speed)\n",
        "\n",
        "    if current_stage == 1:\n",
        "        fuzzy_speed = parallel_first_stage(distances['EN'], distances['ES'], distances['SE'], distances['NE'], tank)\n",
        "        if fuzzy_speed < 1:\n",
        "            tank.forward(0)\n",
        "            current_stage += 1\n",
        "        else:\n",
        "            tank.forward(fuzzy_speed)\n",
        "\n",
        "    if current_stage == 2:\n",
        "        fuzzy_speed = parallel_second_stage(distances['EN'], distances['ES'], distances['SE'], distances['NE'], tank)\n",
        "        if fuzzy_speed < 1:\n",
        "            tank.forward(0)\n",
        "            current_stage += 1\n",
        "        else: # going back, right wheel is slowed\n",
        "            tank.leftvelocity = -fuzzy_speed\n",
        "            tank.rightvelocity = -fuzzy_speed / 6\n",
        "            tank.setVelocity()\n",
        "\n",
        "    if current_stage == 3:\n",
        "        fuzzy_speed = parallel_third_stage(distances['SW'], distances['WS'], tank)\n",
        "        if fuzzy_speed < 1:\n",
        "            tank.forward(0)\n",
        "            break\n",
        "        else: # now left wheel is slowed\n",
        "            tank.leftvelocity = -fuzzy_speed / (8/3)\n",
        "            tank.rightvelocity = -fuzzy_speed\n",
        "            tank.setVelocity()"
      ]
    }
  ],
  "metadata": {
    "kernelspec": {
      "display_name": "Python 3",
      "language": "python",
      "name": "python3"
    },
    "language_info": {
      "codemirror_mode": {
        "name": "ipython",
        "version": 3
      },
      "file_extension": ".py",
      "mimetype": "text/x-python",
      "name": "python",
      "nbconvert_exporter": "python",
      "pygments_lexer": "ipython3",
      "version": "3.7.1"
    }
  },
  "nbformat": 4,
  "nbformat_minor": 2
}
