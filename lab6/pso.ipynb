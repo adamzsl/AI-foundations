{
 "cells": [
  {
   "cell_type": "code",
   "execution_count": 1,
   "id": "3fbe3b3b",
   "metadata": {},
   "outputs": [],
   "source": [
    "import numpy as np"
   ]
  },
  {
   "cell_type": "code",
   "execution_count": 2,
   "id": "002a26d9",
   "metadata": {},
   "outputs": [],
   "source": [
    "def f(x,y):\n",
    "    return (1.5 - x - x*y)**2 + (2.25 - x + x*y**2)**2 + (2.625 - x + x*y**3)**2"
   ]
  },
  {
   "cell_type": "code",
   "execution_count": 58,
   "id": "8dd20e82",
   "metadata": {},
   "outputs": [],
   "source": [
    "class Particle:\n",
    "    def __init__(self, bounds):\n",
    "        self.position = np.random.uniform(bounds)\n",
    "        self.velocity = np.zeros(2)\n",
    "        self.best_position = self.position.copy()\n",
    "        self.best_value = f(*self.position)\n",
    "        \n",
    "    def update(self, global_best_position, w, c1, c2, bounds):\n",
    "        r1, r2 = np.random.rand(2), np.random.rand(2)\n",
    "        cognitive = c1 * r1 * (self.best_position - self.position)\n",
    "        social = c2 * r2 * (global_best_position - self.position)\n",
    "        self.velocity = w * self.velocity + cognitive + social\n",
    "        self.position += self.velocity\n",
    "        self.position = np.clip(self.position, bounds[0], bounds[1])\n",
    "        value = f(*self.position)\n",
    "        if value < self.best_value:\n",
    "            self.best_value = value\n",
    "            self.best_position = self.position.copy()"
   ]
  },
  {
   "cell_type": "code",
   "execution_count": 56,
   "id": "1f78e42f",
   "metadata": {},
   "outputs": [],
   "source": [
    "def pso(n_iterations = 100, n_particles = 30, w = 0.5, c1 = 1, c2 = 2, bounds=(-4.5, 4.5)):\n",
    "    swarm = [Particle(bounds) for _ in range(n_particles)] \n",
    "    global_best_position = min(swarm, key = lambda p: p.best_value).best_position.copy()\n",
    "    global_best_value = f(*global_best_position)\n",
    "\n",
    "    for i in range(n_iterations):\n",
    "        for particle in swarm:\n",
    "            particle.update(global_best_position, w, c1, c2, bounds)\n",
    "        current_best = min(swarm, key=lambda p: p.best_value)\n",
    "        if current_best.best_value < global_best_value:\n",
    "            global_best_position = current_best.best_position.copy()\n",
    "            global_best_value = current_best.best_value.copy()\n",
    "            \n",
    "    return global_best_position, global_best_value"
   ]
  },
  {
   "cell_type": "code",
   "execution_count": 59,
   "id": "716b0d2d",
   "metadata": {},
   "outputs": [
    {
     "name": "stdout",
     "output_type": "stream",
     "text": [
      "{'n_iterations': 100, 'n_particles': 30, 'w': 0.7, 'c1': 1.5, 'c2': 1.5}\n",
      "\n",
      "Best position: [ 2.51799053 -0.37462986]\n",
      "Best value: 0.013514494945980775\n",
      "\n",
      "{'n_iterations': 200, 'n_particles': 50, 'w': 0.5, 'c1': 2.0, 'c2': 2.0}\n",
      "\n",
      "Best position: [ 2.51799046 -0.37462981]\n",
      "Best value: 0.013514494945958118\n",
      "\n",
      "{'n_iterations': 150, 'n_particles': 20, 'w': 0.9, 'c1': 1.0, 'c2': 2.5}\n",
      "\n",
      "Best position: [ 2.51669515 -0.3666801 ]\n",
      "Best value: 0.014199721732369967\n",
      "\n"
     ]
    }
   ],
   "source": [
    "params = [\n",
    "    {\"n_iterations\": 100, \"n_particles\": 30, \"w\": 0.7, \"c1\": 1.5, \"c2\": 1.5},\n",
    "    {\"n_iterations\": 200, \"n_particles\": 50, \"w\": 0.5, \"c1\": 2.0, \"c2\": 2.0},\n",
    "    {\"n_iterations\": 150, \"n_particles\": 20, \"w\": 0.9, \"c1\": 1.0, \"c2\": 2.5},\n",
    "]\n",
    "\n",
    "for p in params:\n",
    "    pos, val = pso(**p)\n",
    "    print(p)\n",
    "    print(f\"\\nBest position: {pos}\\nBest value: {val}\\n\")"
   ]
  }
 ],
 "metadata": {
  "kernelspec": {
   "display_name": "Python 3",
   "language": "python",
   "name": "python3"
  },
  "language_info": {
   "codemirror_mode": {
    "name": "ipython",
    "version": 3
   },
   "file_extension": ".py",
   "mimetype": "text/x-python",
   "name": "python",
   "nbconvert_exporter": "python",
   "pygments_lexer": "ipython3",
   "version": "3.11.9"
  }
 },
 "nbformat": 4,
 "nbformat_minor": 5
}
