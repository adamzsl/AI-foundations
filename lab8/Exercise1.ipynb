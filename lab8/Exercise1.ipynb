{
 "cells": [
  {
   "cell_type": "code",
   "execution_count": null,
   "metadata": {},
   "outputs": [],
   "source": [
    "import sys\n",
    "import time \n",
    "import vrep \n",
    "import numpy as np\n",
    "from tank import *\n",
    "import skfuzzy as fuzz\n",
    "from skfuzzy import control as ctrl"
   ]
  },
  {
   "cell_type": "code",
   "execution_count": null,
   "metadata": {},
   "outputs": [],
   "source": [
    "distance = ctrl.Antecedent(np.arange(0, 8.1, 0.1), 'distance')\n",
    "speed = ctrl.Consequent(np.arange(0, 16, 1), 'speed')\n",
    "\n",
    "behavior = \"aggressive\" # 'aggressive' or 'gentle'\n",
    "\n",
    "if behavior == \"aggressive\":\n",
    "    distance['very_close'] = fuzz.trapmf(distance.universe, [0, 0, 0.8, 1.2])\n",
    "    distance['close'] = fuzz.trimf(distance.universe, [1.0, 1.5, 2.0])\n",
    "    distance['medium'] = fuzz.trimf(distance.universe, [1.8, 3.0, 4.5])\n",
    "    distance['far'] = fuzz.trapmf(distance.universe, [4.0, 5.0, 8.0, 8.0])\n",
    "    \n",
    "    speed['stop'] = fuzz.trapmf(speed.universe, [0, 0, 1, 3])\n",
    "    speed['slow'] = fuzz.trimf(speed.universe, [2.5, 4, 7])\n",
    "    speed['medium'] = fuzz.trimf(speed.universe, [6, 9, 12])\n",
    "    speed['fast'] = fuzz.trapmf(speed.universe, [11, 13, 15, 15])\n",
    "    \n",
    "    rule1 = ctrl.Rule(distance['very_close'], speed['stop'])\n",
    "    rule2 = ctrl.Rule(distance['close'], speed['slow'])\n",
    "    rule3 = ctrl.Rule(distance['medium'], speed['medium'])\n",
    "    rule4 = ctrl.Rule(distance['far'], speed['fast'])\n",
    "    \n",
    "else:  # gentle \n",
    "\n",
    "    distance['very_close'] = fuzz.trapmf(distance.universe, [0, 0, 1.0, 1.4])\n",
    "    distance['close'] = fuzz.trimf(distance.universe, [1.2, 2.0, 3.0])\n",
    "    distance['medium'] = fuzz.trimf(distance.universe, [2.5, 4.0, 5.5])\n",
    "    distance['far'] = fuzz.trapmf(distance.universe, [5.0, 6.0, 8.0, 8.0])\n",
    "    \n",
    "    speed['stop'] = fuzz.trapmf(speed.universe, [0, 0, 1, 2])\n",
    "    speed['slow'] = fuzz.trimf(speed.universe, [1, 3, 6])\n",
    "    speed['medium'] = fuzz.trimf(speed.universe, [5, 8, 11])\n",
    "    speed['fast'] = fuzz.trapmf(speed.universe, [10, 12, 16, 16])\n",
    "    \n",
    "    rule1 = ctrl.Rule(distance['very_close'], speed['stop'])\n",
    "    rule2 = ctrl.Rule(distance['close'], speed['slow'])\n",
    "    rule3 = ctrl.Rule(distance['medium'], speed['medium'])\n",
    "    rule4 = ctrl.Rule(distance['far'], speed['medium']) \n",
    "    \n",
    "# Create control system\n",
    "speed_ctrl = ctrl.ControlSystem([rule1, rule2, rule3, rule4])\n",
    "speed_sim = ctrl.ControlSystemSimulation(speed_ctrl)"
   ]
  },
  {
   "cell_type": "code",
   "execution_count": null,
   "metadata": {},
   "outputs": [
    {
     "name": "stdout",
     "output_type": "stream",
     "text": [
      "Connected to remote API server\n"
     ]
    },
    {
     "data": {
      "text/plain": [
       "1"
      ]
     },
     "execution_count": 2,
     "metadata": {},
     "output_type": "execute_result"
    }
   ],
   "source": [
    "vrep.simxFinish(-1) # closes all opened connections, in case any prevoius wasnt finished\n",
    "clientID=vrep.simxStart('127.0.0.1',19999,True,True,5000,5) # start a connection\n",
    "\n",
    "if clientID!=-1:\n",
    "    print (\"Connected to remote API server\")\n",
    "else:\n",
    "    print(\"Not connected to remote API server\")\n",
    "    sys.exit(\"Could not connect\")\n",
    "\n",
    "#create instance of Tank\n",
    "tank=Tank(clientID)\n",
    "\n",
    "# get handle to proximity sensor\n",
    "err_code,ps_handle = vrep.simxGetObjectHandle(clientID,\"Proximity_sensor\", vrep.simx_opmode_blocking)\n",
    "\n",
    "tank.go()\n",
    "\n",
    "t = time.time()\n",
    "while (time.time()-t)<60: # 60 seconds of communitation\n",
    "    #read values from proximity sensor\n",
    "    err_code,detectionState,detectedPoint,detectedObjectHandle,detectedSurfaceNormalVector=vrep.simxReadProximitySensor(clientID,ps_handle,vrep.simx_opmode_streaming)\n",
    "    \n",
    "    if detectionState: # if the sensor detects an object\n",
    "        \n",
    "        distance = np.linalg.norm(detectedPoint)\n",
    "        \n",
    "        speed_sim.input['distance'] = distance\n",
    "        speed_sim.compute()\n",
    "        \n",
    "        fuzzy_speed = speed_sim.output['speed']\n",
    "        \n",
    "        print(f\"distance: {distance}, fuzzy speed: {fuzzy_speed}\")\n",
    "        \n",
    "        if fuzzy_speed < 1:\n",
    "            tank.stop()\n",
    "        else:\n",
    "            tank.forward(fuzzy_speed)\n",
    "    \n",
    "\n",
    "vrep.simxStopSimulation(clientID,vrep.simx_opmode_oneshot) # stop the simulation in vrep"
   ]
  }
 ],
 "metadata": {
  "kernelspec": {
   "display_name": "venv",
   "language": "python",
   "name": "python3"
  },
  "language_info": {
   "codemirror_mode": {
    "name": "ipython",
    "version": 3
   },
   "file_extension": ".py",
   "mimetype": "text/x-python",
   "name": "python",
   "nbconvert_exporter": "python",
   "pygments_lexer": "ipython3",
   "version": "3.11.9"
  }
 },
 "nbformat": 4,
 "nbformat_minor": 2
}
