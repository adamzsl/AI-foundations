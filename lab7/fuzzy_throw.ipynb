{
 "cells": [
  {
   "cell_type": "code",
   "execution_count": 6,
   "id": "0f8fdc9e",
   "metadata": {},
   "outputs": [],
   "source": [
    "import numpy as np\n",
    "import skfuzzy as fuzz\n",
    "from skfuzzy import control as ctrl\n",
    "import matplotlib.pyplot as plt"
   ]
  },
  {
   "cell_type": "code",
   "execution_count": 8,
   "id": "1f7d32bf",
   "metadata": {},
   "outputs": [],
   "source": [
    "# Input variables\n",
    "d = ctrl.Antecedent(np.arange(0, 101, 1), 'd')         # range [m]\n",
    "a = ctrl.Antecedent(np.arange(10, 81, 1), 'a')         # angle [deg]\n",
    "k = ctrl.Antecedent(np.arange(0, 0.51, 0.01), 'k')     # air resistance coefficient\n",
    "m = ctrl.Antecedent(np.arange(0.1, 5.1, 0.1), 'm')     # mass [kg]\n",
    "\n",
    "# Output variable\n",
    "v0 = ctrl.Consequent(np.arange(0, 51, 1), 'v0')        # initial velocity [m/s]"
   ]
  },
  {
   "cell_type": "code",
   "execution_count": 11,
   "id": "b00dfbd9",
   "metadata": {},
   "outputs": [
    {
     "data": {
      "text/plain": [
       "array([1.        , 0.96666667, 0.93333333, 0.9       , 0.86666667,\n",
       "       0.83333333, 0.8       , 0.76666667, 0.73333333, 0.7       ,\n",
       "       0.66666667, 0.63333333, 0.6       , 0.56666667, 0.53333333,\n",
       "       0.5       , 0.46666667, 0.43333333, 0.4       , 0.36666667,\n",
       "       0.33333333, 0.3       , 0.26666667, 0.23333333, 0.2       ,\n",
       "       0.16666667, 0.13333333, 0.1       , 0.06666667, 0.03333333,\n",
       "       0.        , 0.        , 0.        , 0.        , 0.        ,\n",
       "       0.        , 0.        , 0.        , 0.        , 0.        ,\n",
       "       0.        , 0.        , 0.        , 0.        , 0.        ,\n",
       "       0.        , 0.        , 0.        , 0.        , 0.        ,\n",
       "       0.        , 0.        , 0.        , 0.        , 0.        ,\n",
       "       0.        , 0.        , 0.        , 0.        , 0.        ,\n",
       "       0.        , 0.        , 0.        , 0.        , 0.        ,\n",
       "       0.        , 0.        , 0.        , 0.        , 0.        ,\n",
       "       0.        , 0.        , 0.        , 0.        , 0.        ,\n",
       "       0.        , 0.        , 0.        , 0.        , 0.        ,\n",
       "       0.        , 0.        , 0.        , 0.        , 0.        ,\n",
       "       0.        , 0.        , 0.        , 0.        , 0.        ,\n",
       "       0.        , 0.        , 0.        , 0.        , 0.        ,\n",
       "       0.        , 0.        , 0.        , 0.        , 0.        ,\n",
       "       0.        ])"
      ]
     },
     "execution_count": 11,
     "metadata": {},
     "output_type": "execute_result"
    }
   ],
   "source": [
    "fuzz.trimf(d.universe, [0, 0, 30]) # triangular membership function for d"
   ]
  },
  {
   "cell_type": "code",
   "execution_count": 35,
   "id": "d4810931",
   "metadata": {},
   "outputs": [],
   "source": [
    "# Membership functions\n",
    "d['small'] = fuzz.trimf(d.universe, [0, 0, 30])\n",
    "d['medium'] = fuzz.trimf(d.universe, [20, 50, 80])\n",
    "d['large'] = fuzz.trimf(d.universe, [60, 100, 100])\n",
    "\n",
    "a['low'] = fuzz.trimf(a.universe, [10, 10, 30])\n",
    "a['medium'] = fuzz.trimf(a.universe, [20, 45, 70])\n",
    "a['high'] = fuzz.trimf(a.universe, [60, 80, 80])\n",
    "\n",
    "k['small'] = fuzz.trimf(k.universe, [0, 0, 0.15])\n",
    "k['medium'] = fuzz.trimf(k.universe, [0.1, 0.25, 0.4])\n",
    "k['large'] = fuzz.trimf(k.universe, [0.3, 0.5, 0.5])\n",
    "\n",
    "m['light'] = fuzz.trimf(m.universe, [0.1, 0.1, 1.5])\n",
    "m['medium'] = fuzz.trimf(m.universe, [1, 2.5, 4])\n",
    "m['heavy'] = fuzz.trimf(m.universe, [3, 5, 5])\n",
    "\n",
    "v0['low'] = fuzz.trimf(v0.universe, [0, 0, 15])\n",
    "v0['medium'] = fuzz.trimf(v0.universe, [10, 25, 40])\n",
    "v0['high'] = fuzz.trimf(v0.universe, [30, 50, 50])"
   ]
  },
  {
   "cell_type": "code",
   "execution_count": 36,
   "id": "bcd37989",
   "metadata": {},
   "outputs": [
    {
     "data": {
      "text/plain": [
       "IF ((d[small] AND a[medium]) AND k[small]) AND m[light] THEN v0[low]\n",
       "\tAND aggregation function : fmin\n",
       "\tOR aggregation function  : fmax"
      ]
     },
     "execution_count": 36,
     "metadata": {},
     "output_type": "execute_result"
    }
   ],
   "source": [
    "ctrl.Rule(d['small'] & a['medium'] & k['small'] & m['light'], v0['low'])"
   ]
  },
  {
   "cell_type": "code",
   "execution_count": 37,
   "id": "0b27e12f",
   "metadata": {},
   "outputs": [
    {
     "data": {
      "text/plain": [
       "IF ((d[medium] AND a[medium]) AND k[medium]) AND m[medium] THEN v0[medium]\n",
       "\tAND aggregation function : fmin\n",
       "\tOR aggregation function  : fmax"
      ]
     },
     "execution_count": 37,
     "metadata": {},
     "output_type": "execute_result"
    }
   ],
   "source": [
    "ctrl.Rule(d['medium'] & a['medium'] & k['medium'] & m['medium'], v0['medium'])"
   ]
  },
  {
   "cell_type": "code",
   "execution_count": 38,
   "id": "b3315894",
   "metadata": {},
   "outputs": [],
   "source": [
    "# Fuzzy rules\n",
    "rule1 = ctrl.Rule(d['small'] & a['medium'] & k['small'] & m['light'], v0['low'])\n",
    "rule2 = ctrl.Rule(d['medium'] & a['medium'] & k['small'] & m['medium'], v0['medium'])\n",
    "rule3 = ctrl.Rule(d['large'] & a['medium'] & k['small'] & m['heavy'], v0['high'])\n",
    "rule4 = ctrl.Rule(d['large'] & a['high'] & k['large'] & m['light'], v0['high'])\n",
    "rule5 = ctrl.Rule(d['small'] & a['low'] & k['large'] & m['light'], v0['medium'])\n",
    "rule6 = ctrl.Rule(d['medium'] & a['medium'] & k['medium'] & m['medium'], v0['medium'])\n",
    "rule7 = ctrl.Rule(d['large'] & a['low'] & k['small'] & m['medium'], v0['high'])\n",
    "rule8 = ctrl.Rule(d['small'] & a['high'] & k['small'] & m['heavy'], v0['low'])\n",
    "rule9 = ctrl.Rule(d['medium'] & a['medium'] & k['medium'] & m['medium'], v0['medium'])"
   ]
  },
  {
   "cell_type": "code",
   "execution_count": 39,
   "id": "da31b854",
   "metadata": {},
   "outputs": [],
   "source": [
    "v0_ctrl = ctrl.ControlSystem([\n",
    "    rule1, rule2, rule3, rule4, rule5, rule6, rule7, rule8, rule9\n",
    "])\n",
    "v0_sim = ctrl.ControlSystemSimulation(v0_ctrl)"
   ]
  },
  {
   "cell_type": "code",
   "execution_count": 70,
   "id": "10cb0adf",
   "metadata": {},
   "outputs": [],
   "source": [
    "d_in = 80    # range [m] - medium\n",
    "a_in = 25    # angle [deg] - medium\n",
    "k_in = 0.05  # air resistance - small/medium\n",
    "m_in = 2     # mass [kg] - medium\n",
    "\n",
    "v0_sim.input['d'] = d_in\n",
    "v0_sim.input['a'] = a_in\n",
    "v0_sim.input['k'] = k_in\n",
    "v0_sim.input['m'] = m_in\n",
    "\n",
    "v0_sim.compute()"
   ]
  },
  {
   "cell_type": "code",
   "execution_count": 71,
   "id": "db586f8d",
   "metadata": {},
   "outputs": [
    {
     "name": "stdout",
     "output_type": "stream",
     "text": [
      "Initial velocity (fuzzy model): 41.19 m/s\n"
     ]
    }
   ],
   "source": [
    "if 'v0' in v0_sim.output:\n",
    "    print(f\"Initial velocity (fuzzy model): {v0_sim.output['v0']:.2f} m/s\")\n",
    "else:\n",
    "    print(\"No fuzzy output for these inputs. Try adjusting membership functions or rules.\")"
   ]
  },
  {
   "cell_type": "code",
   "execution_count": 72,
   "id": "7cffcf68",
   "metadata": {},
   "outputs": [
    {
     "name": "stdout",
     "output_type": "stream",
     "text": [
      "Initial velocity (analytical, no air resistance): 32.01 m/s\n"
     ]
    }
   ],
   "source": [
    "# Analytical solution (no air resistance)\n",
    "g = 9.81\n",
    "a_rad = np.deg2rad(a_in)\n",
    "v0_analytical = np.sqrt(d_in * g / np.sin(2 * a_rad))\n",
    "print(f\"Initial velocity (analytical, no air resistance): {v0_analytical:.2f} m/s\")"
   ]
  },
  {
   "cell_type": "code",
   "execution_count": 73,
   "id": "0389956e",
   "metadata": {},
   "outputs": [
    {
     "data": {
      "image/png": "[encoded data removed]",
      "text/plain": [
       "<Figure size 640x480 with 1 Axes>"
      ]
     },
     "metadata": {},
     "output_type": "display_data"
    }
   ],
   "source": [
    "v0.view(sim=v0_sim)\n",
    "plt.show()"
   ]
  }
 ],
 "metadata": {
  "kernelspec": {
   "display_name": "venv",
   "language": "python",
   "name": "python3"
  },
  "language_info": {
   "codemirror_mode": {
    "name": "ipython",
    "version": 3
   },
   "file_extension": ".py",
   "mimetype": "text/x-python",
   "name": "python",
   "nbconvert_exporter": "python",
   "pygments_lexer": "ipython3",
   "version": "3.11.9"
  }
 },
 "nbformat": 4,
 "nbformat_minor": 5
}
